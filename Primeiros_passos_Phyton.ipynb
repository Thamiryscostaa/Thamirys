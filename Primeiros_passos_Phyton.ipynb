{
  "nbformat": 4,
  "nbformat_minor": 0,
  "metadata": {
    "colab": {
      "provenance": [],
      "authorship_tag": "ABX9TyOHGoL4AlXfwTYKglBoOy3/",
      "include_colab_link": true
    },
    "kernelspec": {
      "name": "python3",
      "display_name": "Python 3"
    },
    "language_info": {
      "name": "python"
    }
  },
  "cells": [
    {
      "cell_type": "markdown",
      "metadata": {
        "id": "view-in-github",
        "colab_type": "text"
      },
      "source": [
        "<a href=\"https://colab.research.google.com/github/Thamiryscostaa/Thamirys/blob/main/Primeiros_passos_Phyton.ipynb\" target=\"_parent\"><img src=\"https://colab.research.google.com/assets/colab-badge.svg\" alt=\"Open In Colab\"/></a>"
      ]
    },
    {
      "cell_type": "code",
      "execution_count": 33,
      "metadata": {
        "colab": {
          "base_uri": "https://localhost:8080/"
        },
        "id": "AQBmI-TIsPpL",
        "outputId": "cef8bce5-82cd-436d-b8e9-18cfea425bf6"
      },
      "outputs": [
        {
          "output_type": "stream",
          "name": "stdout",
          "text": [
            "Digite seu nome: Olivia\n",
            "Olá, Olivia !\n"
          ]
        }
      ],
      "source": [
        "#Crie um programa que solicite à pessoa usuária digitar seu nome, e imprima “Olá, [nome]!”.\n",
        "nome = input('Digite seu nome: ')\n",
        "print(f'Olá, {nome} !')"
      ]
    },
    {
      "cell_type": "code",
      "source": [
        "#Crie um programa que solicite à pessoa usuária digitar seu nome e idade, e imprima “Olá, [nome], você tem [idade] anos.”.\n",
        "nome = input('Digite seu nome: ')\n",
        "idade = input ('Digite sua idade: ')\n",
        "print(f'Olá {nome}, seja bem-vinda ! você tem {idade} anos!')"
      ],
      "metadata": {
        "colab": {
          "base_uri": "https://localhost:8080/"
        },
        "id": "FyZw9B4GslDS",
        "outputId": "1eeca583-6629-44b7-85c6-89cadf760de9"
      },
      "execution_count": 2,
      "outputs": [
        {
          "output_type": "stream",
          "name": "stdout",
          "text": [
            "Digite seu nome: Olivia\n",
            "Digite sua idade: 33\n",
            "Olá Olivia, seja bem-vinda ! você tem 33 anos!\n"
          ]
        }
      ]
    },
    {
      "cell_type": "code",
      "source": [
        "#Crie um programa que solicite à pessoa usuária digitar seu nome, idade e altura em metros, e imprima “Olá, [nome], você tem [idade] anos e mede [altura] metros!”.\n",
        "nome_2 = input('Digite seu nome: ')\n",
        "idade_2 = int(input('Digite sua idade: '))\n",
        "altura = float(input('Digite sua altura: '))\n",
        "print(f'Ola {nome}, você tem {idade} anos e a sua altura é {altura} metros !')"
      ],
      "metadata": {
        "colab": {
          "base_uri": "https://localhost:8080/"
        },
        "id": "QoEfOs53t8sE",
        "outputId": "ad7b2be4-9d9e-4a28-c638-9fa71bdcb113"
      },
      "execution_count": 39,
      "outputs": [
        {
          "output_type": "stream",
          "name": "stdout",
          "text": [
            "Digite seu nome: Carlos\n",
            "Digite sua idade: 67\n",
            "Digite sua altura: 1.77\n",
            "Ola Olivia, você tem 33 anos e a sua altura é 1.77\n"
          ]
        }
      ]
    },
    {
      "cell_type": "code",
      "source": [
        "#Crie um programa que solicite dois valores numéricos à pessoa usuária e imprima a soma dos dois valores.\n",
        "numero = int(input('Digite um número: '))\n",
        "numero_2 = int(input('Digite outro número: '))\n",
        "print(numero + numero_2)"
      ],
      "metadata": {
        "colab": {
          "base_uri": "https://localhost:8080/"
        },
        "id": "iJ922XcLunk5",
        "outputId": "6d46ce79-c1a7-4244-bf7d-7d6a411ef025"
      },
      "execution_count": 4,
      "outputs": [
        {
          "output_type": "stream",
          "name": "stdout",
          "text": [
            "Digite um número: 2\n",
            "Digite outro número: 2\n",
            "4\n"
          ]
        }
      ]
    },
    {
      "cell_type": "code",
      "source": [
        "#Crie um programa que solicite três valores numéricos à pessoa usuária e imprima a soma dos três valores.\n",
        "numero_1 = int(input('Digite um número: '))\n",
        "numero_2 = int(input('Digite outro número: '))\n",
        "numero_3 = int(input('Digite mais um número: '))\n",
        "print(numero_1 + numero_2 + numero_3)"
      ],
      "metadata": {
        "colab": {
          "base_uri": "https://localhost:8080/"
        },
        "id": "_FEyx2E2vyUd",
        "outputId": "72a58b6c-0f13-48b3-b1cf-1814fa5b20d0"
      },
      "execution_count": 5,
      "outputs": [
        {
          "output_type": "stream",
          "name": "stdout",
          "text": [
            "Digite um número: 2\n",
            "Digite outro número: 2\n",
            "Digite mais um número: 5\n",
            "9\n"
          ]
        }
      ]
    },
    {
      "cell_type": "code",
      "source": [
        "#Crie um programa que solicite dois valores numéricos à pessoa usuária e imprima a subtração do primeiro pelo o segundo valor.\n",
        "numero_1 = int(input('Digite um número: '))\n",
        "numero_2 = int(input('Digite outro número: '))\n",
        "print( numero_1 - numero_2)"
      ],
      "metadata": {
        "colab": {
          "base_uri": "https://localhost:8080/"
        },
        "id": "lsQC6ZG-wUcD",
        "outputId": "f6f26f41-b5ba-48a2-fd7d-eb9e476fdf7a"
      },
      "execution_count": 6,
      "outputs": [
        {
          "output_type": "stream",
          "name": "stdout",
          "text": [
            "Digite um número: 2\n",
            "Digite outro número: 2\n",
            "0\n"
          ]
        }
      ]
    },
    {
      "cell_type": "code",
      "source": [
        "#Crie um programa que solicite dois valores numéricos à pessoa usuária e imprima a multiplicação dos dois valores.\n",
        "numero_m = int(input('Digite um número: '))\n",
        "numero_m_2 = int(input('Digite outro número: '))\n",
        "print(numero_m * numero_m_2)"
      ],
      "metadata": {
        "colab": {
          "base_uri": "https://localhost:8080/"
        },
        "id": "9gX_DAqiwo-G",
        "outputId": "8c175c97-78d6-4852-fbb3-3bb58a394199"
      },
      "execution_count": 7,
      "outputs": [
        {
          "output_type": "stream",
          "name": "stdout",
          "text": [
            "Digite um número: 3\n",
            "Digite outro número: 4\n",
            "12\n"
          ]
        }
      ]
    },
    {
      "cell_type": "code",
      "source": [
        "#Crie um programa que solicite dois valores numéricos, um numerador e um denominador, e realize a divisão entre os dois valores. Deixe claro que o valor do denominador não pode ser 0\n",
        "numero_d = int(input('Digite um número: '))\n",
        "numero_d_2 = int(input('Digite um número: '))\n",
        "print(numero_d / numero_d_2)"
      ],
      "metadata": {
        "colab": {
          "base_uri": "https://localhost:8080/"
        },
        "id": "CABLkUePyJ8j",
        "outputId": "2c69377b-b694-4b23-af15-709193bcae44"
      },
      "execution_count": 40,
      "outputs": [
        {
          "output_type": "stream",
          "name": "stdout",
          "text": [
            "Digite um número: 8\n",
            "Digite um número: 7\n",
            "1.1428571428571428\n"
          ]
        }
      ]
    },
    {
      "cell_type": "code",
      "source": [
        "operador = int(input('Digite um operador:'))\n",
        "potencia = int(input('Digite uma potencia:'))\n",
        "print(operador**potencia)"
      ],
      "metadata": {
        "colab": {
          "base_uri": "https://localhost:8080/"
        },
        "id": "zy5gtBuUSUhq",
        "outputId": "1fbc794e-69e8-4c49-d93f-300d3a122eeb"
      },
      "execution_count": 42,
      "outputs": [
        {
          "output_type": "stream",
          "name": "stdout",
          "text": [
            "Digite um operador:2\n",
            "Digite uma potencia:2\n",
            "4\n"
          ]
        }
      ]
    },
    {
      "cell_type": "code",
      "source": [
        "#Crie um programa que solicite dois valores numéricos, um operador e uma potência, e realize a exponenciação entre esses dois valores.\n",
        "nota_1 = float(input('Digite uma nota: '))\n",
        "nota_2 = float(input('Digite outra nota: '))\n",
        "nota_3 = float(input('Digite mais uma nota: '))\n",
        "print(f'Média {(nota_1+nota_2+nota_3)/3}.')"
      ],
      "metadata": {
        "colab": {
          "base_uri": "https://localhost:8080/"
        },
        "id": "3ABLy40X0VAM",
        "outputId": "fccaab97-6e06-495d-8b88-8e7b6a5ee5b2"
      },
      "execution_count": 44,
      "outputs": [
        {
          "output_type": "stream",
          "name": "stdout",
          "text": [
            "Digite uma nota: 5\n",
            "Digite outra nota: 15\n",
            "Digite mais uma nota: 30\n",
            "Média 16.666666666666668.\n"
          ]
        }
      ]
    },
    {
      "cell_type": "code",
      "source": [
        "#Crie uma variável chamada “frase” e atribua a ela uma string de sua escolha. Em seguida, imprima a frase na tela.\n",
        "frase = ('Ola, mundo!')\n",
        "print(frase)"
      ],
      "metadata": {
        "colab": {
          "base_uri": "https://localhost:8080/"
        },
        "id": "ptlePiBfEAiN",
        "outputId": "b6002544-0439-4832-fdeb-fc474390ba66"
      },
      "execution_count": 10,
      "outputs": [
        {
          "output_type": "stream",
          "name": "stdout",
          "text": [
            "Ola, mundo!\n"
          ]
        }
      ]
    },
    {
      "cell_type": "code",
      "source": [
        "#Crie um código que solicite uma frase e depois imprima a frase na tela.\n",
        "teste = input('Digitel algo:')\n",
        "print(f' Você digitou: {teste}')"
      ],
      "metadata": {
        "colab": {
          "base_uri": "https://localhost:8080/"
        },
        "id": "9RV2xI6BES6d",
        "outputId": "9df3ce59-60a0-4948-d26a-c85cd26f4ee0"
      },
      "execution_count": 11,
      "outputs": [
        {
          "output_type": "stream",
          "name": "stdout",
          "text": [
            "Digitel algo:Oie, tudo bem ?\n",
            " Você digitou: Oie, tudo bem ?\n"
          ]
        }
      ]
    },
    {
      "cell_type": "code",
      "source": [
        "#Crie um código que solicite uma frase à pessoa usuária e imprima a mesma frase digitada mas com todas as letras maiúsculas.\n",
        "teste_2 = (input('Digite algo:'))\n",
        "print(f'Você digitou: {teste_2.upper()}')"
      ],
      "metadata": {
        "colab": {
          "base_uri": "https://localhost:8080/"
        },
        "id": "__n-_629Eua0",
        "outputId": "6230f172-7627-4902-aa32-a4ec5b68c963"
      },
      "execution_count": 14,
      "outputs": [
        {
          "output_type": "stream",
          "name": "stdout",
          "text": [
            "Digite algo:tudo bem por ai ?\n",
            "Você digitou: TUDO BEM POR AI ?\n"
          ]
        }
      ]
    },
    {
      "cell_type": "code",
      "source": [
        "#Crie um código que solicite uma frase à pessoa usuária e imprima a mesma frase digitada mas com todas as letras minúsculas.\n",
        "teste_3 = (input('Digite aqui:'))\n",
        "print(f'Você digitou: {teste_3.lower()}')"
      ],
      "metadata": {
        "colab": {
          "base_uri": "https://localhost:8080/"
        },
        "id": "NlDqaoB1GMDh",
        "outputId": "c5d41d0e-e7ba-4658-ea9e-b2774e1f540b"
      },
      "execution_count": 18,
      "outputs": [
        {
          "output_type": "stream",
          "name": "stdout",
          "text": [
            "Digite aqui:OLA\n",
            "Você digitou: ola\n"
          ]
        }
      ]
    },
    {
      "cell_type": "code",
      "source": [
        "#Crie uma variável chamada “frase” e atribua a ela uma string de sua escolha. Em seguida, imprima a frase sem espaços em branco no início e no fim.\n",
        "teste_4 = (input('Digite outra vez:'))\n",
        "print(f'Você digitou: {teste_4.strip()}')"
      ],
      "metadata": {
        "colab": {
          "base_uri": "https://localhost:8080/"
        },
        "id": "O95vjiNTGr5R",
        "outputId": "4f34d7ec-0032-4338-b97c-7cd397735d75"
      },
      "execution_count": 46,
      "outputs": [
        {
          "output_type": "stream",
          "name": "stdout",
          "text": [
            "Digite outra vez:oie\n",
            "Você digitou: oie\n"
          ]
        }
      ]
    },
    {
      "cell_type": "code",
      "source": [
        "#Crie um código que solicite uma frase à pessoa usuária e imprima a mesma frase sem espaços em branco no início e no fim.\n",
        "teste_5 = (input('Digite algo:'))\n",
        "print(f'Você digitou: {teste_5.lstrip()}')"
      ],
      "metadata": {
        "colab": {
          "base_uri": "https://localhost:8080/"
        },
        "id": "8F-gz2sdHyy-",
        "outputId": "570ebcdc-cb57-46eb-f96b-e6871aa59ab1"
      },
      "execution_count": 47,
      "outputs": [
        {
          "output_type": "stream",
          "name": "stdout",
          "text": [
            "Digite algo:teste\n",
            "Você digitou: teste\n"
          ]
        }
      ]
    },
    {
      "cell_type": "code",
      "source": [
        "#Crie um código que solicite uma frase à pessoa usuária e imprima a mesma frase sem espaços em branco no início e no fim e em letras minúsculas.\n",
        "teste_6 = (input('Digite uma frase:'))\n",
        "print(f'Você digitou: {teste_6.rstrip().lower()}')"
      ],
      "metadata": {
        "colab": {
          "base_uri": "https://localhost:8080/"
        },
        "id": "k3-xdaVMIYi6",
        "outputId": "2a62ccee-605c-47bb-e7ad-9fdcd9c198b3"
      },
      "execution_count": 49,
      "outputs": [
        {
          "output_type": "stream",
          "name": "stdout",
          "text": [
            "Digite uma frase:um teste\n",
            "Você digitou: um teste\n"
          ]
        }
      ]
    },
    {
      "cell_type": "code",
      "source": [
        "#Crie um código que solicite uma frase à pessoa usuária e imprima a mesma frase sem espaços em branco no início e no fim e em letras minúsculas.\n",
        "teste_7 = ( input ('Digite as vogais: '))\n",
        "print(f'Você digitou: {teste_7.replace(\"e\",\"f\")}')"
      ],
      "metadata": {
        "colab": {
          "base_uri": "https://localhost:8080/"
        },
        "id": "Fx9QfuUJJhZk",
        "outputId": "50ee89f1-abe0-4ebf-c2cf-684750aff12a"
      },
      "execution_count": 26,
      "outputs": [
        {
          "output_type": "stream",
          "name": "stdout",
          "text": [
            "Digite as vogais: a,e,i,o,u\n",
            "Você digitou: a,f,i,o,u\n"
          ]
        }
      ]
    },
    {
      "cell_type": "code",
      "source": [
        "#Crie um código que solicite uma frase à pessoa usuária e imprima a mesma frase com todas as vogais “e” trocadas pela letra “f”.\n",
        "teste_8 = (input('Digite algo:'))\n",
        "print(f'Você digitou: {teste_8.replace(\"a\",\"@\")}')"
      ],
      "metadata": {
        "colab": {
          "base_uri": "https://localhost:8080/"
        },
        "id": "46me0-XXMZVO",
        "outputId": "7ab9e971-790a-4102-ad10-1143d86cf089"
      },
      "execution_count": 30,
      "outputs": [
        {
          "output_type": "stream",
          "name": "stdout",
          "text": [
            "Digite algo:amar\n",
            "Você digitou: @m@r\n"
          ]
        }
      ]
    },
    {
      "cell_type": "code",
      "source": [
        "#Crie um código que solicite uma frase à pessoa usuária e imprima a mesma frase com todas as consoantes “s” trocadas pelo caractere “$”.\n",
        "teste_9 = ( input ('Digite uma frase: '))\n",
        "print(f'Você digitou:{teste_9.replace(\"s\",\"$\")}')"
      ],
      "metadata": {
        "colab": {
          "base_uri": "https://localhost:8080/"
        },
        "id": "AD1qpp-LK70R",
        "outputId": "331a843c-f0b3-471a-825d-e06bd14106c8"
      },
      "execution_count": 50,
      "outputs": [
        {
          "output_type": "stream",
          "name": "stdout",
          "text": [
            "Digite uma frase: testes\n",
            "Você digitou:te$te$\n"
          ]
        }
      ]
    }
  ]
}