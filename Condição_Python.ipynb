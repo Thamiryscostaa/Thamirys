{
  "nbformat": 4,
  "nbformat_minor": 0,
  "metadata": {
    "colab": {
      "provenance": [],
      "authorship_tag": "ABX9TyOcqC5PwxseJae9i3VF7NxU",
      "include_colab_link": true
    },
    "kernelspec": {
      "name": "python3",
      "display_name": "Python 3"
    },
    "language_info": {
      "name": "python"
    }
  },
  "cells": [
    {
      "cell_type": "markdown",
      "metadata": {
        "id": "view-in-github",
        "colab_type": "text"
      },
      "source": [
        "<a href=\"https://colab.research.google.com/github/Thamiryscostaa/Thamirys/blob/main/Condi%C3%A7%C3%A3o_Python.ipynb\" target=\"_parent\"><img src=\"https://colab.research.google.com/assets/colab-badge.svg\" alt=\"Open In Colab\"/></a>"
      ]
    },
    {
      "cell_type": "code",
      "execution_count": 2,
      "metadata": {
        "colab": {
          "base_uri": "https://localhost:8080/"
        },
        "id": "0-BSwUe_r9Cp",
        "outputId": "309ba4b3-f257-4fef-d019-1449babde394"
      },
      "outputs": [
        {
          "output_type": "stream",
          "name": "stdout",
          "text": [
            "Digite a idade do Fernando: 18\n",
            "Digite a idade do Joaquim:16\n",
            "Fernando é mais velho que joaquim!\n"
          ]
        }
      ],
      "source": [
        "# Condição if > (maior):\n",
        "idade_Fernando = int(input('Digite a idade do Fernando: '))\n",
        "idade_Joaquim = int(input('Digite a idade do Joaquim:'))\n",
        "if idade_Fernando > idade_Joaquim:\n",
        "  print('Fernando é mais velho que joaquim!')"
      ]
    },
    {
      "cell_type": "code",
      "source": [
        "# Condição if < (menor):\n",
        "idade_olivia = int(input('Digite a idade da Olivia:'))\n",
        "idade_maria = int(input('Digite a idade da Maria:'))\n",
        "if idade_olivia < idade_maria:\n",
        "  print( f'Maria é mais velha que Olivia!')"
      ],
      "metadata": {
        "colab": {
          "base_uri": "https://localhost:8080/"
        },
        "id": "MPdazpgwtB3v",
        "outputId": "d93447a5-7ec9-4343-850e-faf97a6c6068"
      },
      "execution_count": 6,
      "outputs": [
        {
          "output_type": "stream",
          "name": "stdout",
          "text": [
            "Digite a idade da Olivia:10\n",
            "Digite a idade da Maria:20\n",
            "Maria é mais velha que Olivia!\n"
          ]
        }
      ]
    },
    {
      "cell_type": "code",
      "source": [
        "# Condição if >= (maior ou igual):\n",
        "empresa_funcionarios1 = int(input('Digite a quantidade total de funcionários da matriz: '))\n",
        "empresa_funcionarios2 = int(input('Digite a quantidade total de funcionários da filial : '))\n",
        "if empresa_funcionarios1 >= empresa_funcionarios2:\n",
        "  print('A Matriz possui mais funcionarios que a Filial')"
      ],
      "metadata": {
        "colab": {
          "base_uri": "https://localhost:8080/"
        },
        "id": "OoBZ__XwuXg0",
        "outputId": "78310063-3ed8-4c3b-dced-d907b9b67daf"
      },
      "execution_count": 9,
      "outputs": [
        {
          "output_type": "stream",
          "name": "stdout",
          "text": [
            "Digite a quantidade total de funcionários da matriz: 30\n",
            "Digite a quantidade total de funcionários da filial : 29\n",
            "A Matriz possui mais funcionarios que a Filial\n"
          ]
        }
      ]
    },
    {
      "cell_type": "code",
      "source": [
        "# Condição if <= (menor ou igual):\n",
        "empresa_funcionarios3 = int(input('Digite a quantidade total de funcionários da Matriz:'))\n",
        "empresa_funcionarios4 = int(input('Digite a quantidade total de funcionários da Filial: '))\n",
        "if empresa_funcionarios3 <= empresa_funcionarios4:\n",
        "  print('A filial possui a maior quantidade de funcionários!')"
      ],
      "metadata": {
        "colab": {
          "base_uri": "https://localhost:8080/"
        },
        "id": "StdtagZyvjdO",
        "outputId": "e8bb2f74-5720-469d-da84-fc6ec08f10f4"
      },
      "execution_count": 16,
      "outputs": [
        {
          "output_type": "stream",
          "name": "stdout",
          "text": [
            "Digite a quantidade total de funcionários da Matriz:78\n",
            "Digite a quantidade total de funcionários da Filial: 79\n",
            "A filial possui a maior quantidade de funcionários!\n"
          ]
        }
      ]
    },
    {
      "cell_type": "code",
      "source": [
        "# Condição if == (igual):\n",
        "livro_1 = input('Digite o título do livro:')\n",
        "livro_2 = input('Digite o segunto título do livro:')\n",
        "if livro_1 == livro_2:\n",
        "  print('Os livros são iguais!')"
      ],
      "metadata": {
        "colab": {
          "base_uri": "https://localhost:8080/"
        },
        "id": "y_GkyUwLw8Rh",
        "outputId": "0c69cab4-7d87-4ef1-d187-eea490c578d0"
      },
      "execution_count": 17,
      "outputs": [
        {
          "name": "stdout",
          "output_type": "stream",
          "text": [
            "Digite o título do livro:Comer, amar e rezar \n",
            "Digite o segunto título do livro:Comer, amar e rezar !\n"
          ]
        }
      ]
    },
    {
      "cell_type": "code",
      "source": [
        "# Condição if != (diferente de):\n",
        "livro_3 = input('Digite o título do primeiro livro: ')\n",
        "livro_4 = input('Digite o título do segundo livro:')\n",
        "if livro_3 != livro_4:\n",
        "  print('Os livros são diferentes!')"
      ],
      "metadata": {
        "colab": {
          "base_uri": "https://localhost:8080/"
        },
        "id": "-0IzNPi5xrPx",
        "outputId": "46aac9cb-366b-4794-c14d-fcd1632ff9f6"
      },
      "execution_count": 18,
      "outputs": [
        {
          "output_type": "stream",
          "name": "stdout",
          "text": [
            "Digite o título do primeiro livro: Oração para desaparecer !\n",
            "Digite o título do segundo livro:Conversando com Deus!\n",
            "Os livros são diferentes!\n"
          ]
        }
      ]
    },
    {
      "cell_type": "code",
      "source": [
        "# Escreva um programa que peça à pessoa usuária para fornecer dois números e exibir o número maior.\n",
        "\n",
        "#Coletar os números\n",
        "numero1 = float(input('Digite um numero qualquer:'))\n",
        "numero2 = float(input('Digite outro numero diferente do primeiro:'))\n",
        "\n",
        "if numero1 > numero2:\n",
        "  print(f'O numero {numero1} é maior que o numero {numero2}')\n",
        "elif numero2 > numero1:\n",
        "  print(f'O numero {numero2} é maior que o numero {numero1}')\n",
        "else:\n",
        "  print('Os números são iguais !')"
      ],
      "metadata": {
        "colab": {
          "base_uri": "https://localhost:8080/"
        },
        "id": "Qb2PHunmN_B0",
        "outputId": "3a7ce837-a9e4-47f8-98b0-4daf4638eebf"
      },
      "execution_count": 27,
      "outputs": [
        {
          "output_type": "stream",
          "name": "stdout",
          "text": [
            "Digite um numero qualquer:5\n",
            "Digite outro numero diferente do primeiro:7\n",
            "O numero 7.0 é maior que o numero 5.0\n"
          ]
        }
      ]
    },
    {
      "cell_type": "code",
      "source": [
        " # Escreva um programa que solicite o percentual de crescimento de produção de uma empresa e informe se houve um crescimento (porcentagem positiva) ou decrescimento (porcentagem negativa)\n",
        "\n",
        "variacao_producao = float(input('Digitel o percentual de crescimento de produção da empresa:'))\n",
        "if variacao_producao > 0:\n",
        "  print(f'Houve um crescimento de {variacao_producao}%.')\n",
        "elif variacao_producao < 0:\n",
        "  print(f'Houve um decrescimento de {variacao_producao}%.')\n",
        "else:\n",
        "  print('Não houve crescimento ou decrescimento!')"
      ],
      "metadata": {
        "colab": {
          "base_uri": "https://localhost:8080/"
        },
        "id": "VI6vil-WP3M8",
        "outputId": "7171ccdf-d944-487b-b933-04012e748922"
      },
      "execution_count": 31,
      "outputs": [
        {
          "output_type": "stream",
          "name": "stdout",
          "text": [
            "Digitel o percentual de crescimento de produção da empresa:0\n",
            "Não houve crescimento ou decrescimento!\n"
          ]
        }
      ]
    },
    {
      "cell_type": "code",
      "source": [
        "#Escreva um programa que determine se uma letra fornecida pela pessoa usuária é uma vogal ou consoante.\n",
        "lista_vogais = [\"a\",\"e\",\"i\",\"o\", \"u\"]\n",
        "letra = input('Digite uma letra:').lower()\n",
        "if letra in lista_vogais:\n",
        "  print(f'Parabéns, a letra {letra} é uma vogal!')\n",
        "else:\n",
        "  print(f'Desculpe, mas a letra {letra} é uma consoante!')"
      ],
      "metadata": {
        "colab": {
          "base_uri": "https://localhost:8080/"
        },
        "id": "nd_Kt-i3RSl5",
        "outputId": "d92a4373-e40e-4db7-b7da-c3949e851abf"
      },
      "execution_count": 32,
      "outputs": [
        {
          "output_type": "stream",
          "name": "stdout",
          "text": [
            "Digite uma letra:d\n",
            "Desculpe, mas a letra d é uma consoante!\n"
          ]
        }
      ]
    },
    {
      "cell_type": "code",
      "source": [
        "#Escreva um programa que leia valores médios de preços de um modelo de carro por 3 anos consecutivos e exiba o valor mais alto e mais baixo entre esses três anos.\n",
        "\n",
        "#Coletamos os dados dos carros:\n",
        "carro_1 = float(input('Digite aqui o preço do carro do ano atual:'))\n",
        "carro_2 = float(input('Digite aqui o preço do carro no ano passado:'))\n",
        "carro_3 = float(input('Digite aqui o preço do carro no ano anterior:'))\n",
        "\n",
        "#Determinamos o maios valor atráves da comparação:\n",
        "\n",
        "maior = carro_1\n",
        "if carro_2 > maior:\n",
        "  maior = carro_2\n",
        "if carro_3 > maior:\n",
        "  maior = carro_3\n",
        "\n",
        "#Determinamos o valor menor valor atráves de comparações:\n",
        "menor = carro_1\n",
        "if carro_2 < menor:\n",
        "  menor = carro_2\n",
        "if carro_3 < menor:\n",
        "  menor = carro_3\n",
        "\n",
        "#mostrar o resultado:\n",
        "else:\n",
        "  print(f'O preço mais alto é de R${maior}.')\n",
        "  print(f'O preço mais baixo é de R${menor}.')\n",
        ""
      ],
      "metadata": {
        "colab": {
          "base_uri": "https://localhost:8080/"
        },
        "id": "KiCJyyjSzWGo",
        "outputId": "7072462f-43c8-40e1-e8fa-682022261d94"
      },
      "execution_count": 34,
      "outputs": [
        {
          "output_type": "stream",
          "name": "stdout",
          "text": [
            "Digite aqui o preço do carro do ano atual:500\n",
            "Digite aqui o preço do carro no ano passado:100\n",
            "Digite aqui o preço do carro no ano anterior:300\n",
            "O preço mais alto é de R$500.0.\n",
            "O preço mais baixo é de R$100.0.\n"
          ]
        }
      ]
    },
    {
      "cell_type": "code",
      "source": [
        "#Escreva um programa que leia as temperaturas médias dos últimos três dias e exiba a mais alta e a mais baixa.\n",
        "\n",
        "#Primeiro coletar os dados:\n",
        "temperatura_1 = int(input('Digite a temperatura do primeiro dia:'))\n",
        "temperatura_2 = int(input('Digite a temperatura do segundo dia: '))\n",
        "temperatura_3 = int(input('Digite a temperatura do terceiro dia: '))\n",
        "\n",
        "#Determinar o maior valor atráves das comparações:\n",
        "maior_temperatura = temperatura_1\n",
        "if temperatura_2 > maior_temperatura:\n",
        "  maior_temperatura = temperatura_2\n",
        "if temperatura_3 > maior_temperatura:\n",
        "  maior_temperatura = temperatura_3\n",
        "\n",
        "#Determinar o menor valor atráves das comparações:\n",
        "menor_temperatura = temperatura_1\n",
        "if temperatura_2 < menor_temperatura:\n",
        "  menor_temperatura = temperatura_2\n",
        "if temperatura_3 < menor_temperatura:\n",
        "  menor_temperatura = temperatura_3\n",
        "\n",
        "#Mostrar os resultados\n",
        "print(f'A temperatura mais alta foi de {maior_temperatura}C')\n",
        "print(f'A temperatura mais baixa foi de {menor_temperatura}C')"
      ],
      "metadata": {
        "colab": {
          "base_uri": "https://localhost:8080/"
        },
        "id": "GKOFIEYPBtEH",
        "outputId": "b2abb057-3b37-46ac-a50f-4183f235ddd3"
      },
      "execution_count": 35,
      "outputs": [
        {
          "output_type": "stream",
          "name": "stdout",
          "text": [
            "Digite a temperatura do primeiro dia:20\n",
            "Digite a temperatura do segundo dia: 16\n",
            "Digite a temperatura do terceiro dia: 35\n",
            "A temperatura mais alta foi de 35C\n",
            "A temperatura mais baixa foi de 16C\n"
          ]
        }
      ]
    },
    {
      "cell_type": "code",
      "source": [
        "#Leia as notas de três provas e mostre a maior, a menor e a média das notas.\n",
        "\n",
        "#Primeiro coletar os dados:\n",
        "nota_1 = float(input('Digite a primeira nota:'))\n",
        "nota_2 = float(input('Digite a segunda nota:'))\n",
        "nota_3 = float(input('Digite a terceira nota:'))\n",
        "\n",
        "#Determinar a maior:\n",
        "\n",
        "maior_nota = nota_1\n",
        "if nota_2 > maior_nota:\n",
        "  maior_nota = nota_2\n",
        "if nota_3 > maior_nota:\n",
        "  maior_nota = nota_3\n",
        "\n",
        "#Determinar a menor nota:\n",
        "\n",
        "menor_notaa = nota_1\n",
        "if nota_2 < menor_notaa:\n",
        "  menor_notaa = nota_2\n",
        "if nota_3 < menor_notaa:\n",
        "  menor_notaa = nota_3\n",
        "\n",
        "#Determinar a media:\n",
        "media = (nota_1 + nota_2 + nota_3) / 3\n",
        "print(f'A maior nota foi a de {maior_nota}!')\n",
        "print(f'A menor nota foi de {menor_notaa}!')\n",
        "print(f'A media de nota foi de {media}')\n"
      ],
      "metadata": {
        "colab": {
          "base_uri": "https://localhost:8080/"
        },
        "id": "-MdeOWJmESff",
        "outputId": "3c2f813d-106b-4508-9ab6-40f2948f6f7d"
      },
      "execution_count": 36,
      "outputs": [
        {
          "output_type": "stream",
          "name": "stdout",
          "text": [
            "Digite a primeira nota:6\n",
            "Digite a segunda nota:3\n",
            "Digite a terceira nota:8\n",
            "A maior nota foi a de 8.0!\n",
            "A menor nota foi de 3.0!\n",
            "A media de nota foi de 5.666666666666667\n"
          ]
        }
      ]
    },
    {
      "cell_type": "code",
      "source": [
        "#Solicite ao usuário os salários de três colegas e diga quem recebe mais e quem recebe menos.\n",
        "\n",
        "#Primeiro coletar dados:\n",
        "salario_1 = float(input('Digite aqui o primeiro salario:'))\n",
        "salario_2 = float(input('Digite aqui o segundo salario: '))\n",
        "salario_3 = float(input('Digite aqui o terceiro salario: '))\n",
        "\n",
        "#Determinar o maior salário:\n",
        "maior_salario = salario_1\n",
        "if salario_2 > maior_salario:\n",
        "  maior_salario = salario_2\n",
        "if salario_3 > maior_salario:\n",
        "  maior_salario = salario_3\n",
        "\n",
        "#Determine o menor salário:\n",
        "menor_salario = salario_1\n",
        "if salario_2 < menor_salario:\n",
        "  menor_salario = salario_2\n",
        "if salario_3 < menor_salario:\n",
        "  menor_salario = salario_3\n",
        "\n",
        "#Resultado\n",
        "print(f'O maior salario é de R${maior_salario}!')\n",
        "print(f'O menor salario é de R${menor_salario}!')"
      ],
      "metadata": {
        "colab": {
          "base_uri": "https://localhost:8080/"
        },
        "id": "6pWsXtekGKAL",
        "outputId": "0fd700c3-76a3-480b-9fe9-fb592a9e173c"
      },
      "execution_count": 37,
      "outputs": [
        {
          "output_type": "stream",
          "name": "stdout",
          "text": [
            "Digite aqui o primeiro salario:900\n",
            "Digite aqui o segundo salario: 1000\n",
            "Digite aqui o terceiro salario: 1500\n",
            "O maior salario é de R$1500.0!\n",
            "O menor salario é de R$900.0!\n"
          ]
        }
      ]
    },
    {
      "cell_type": "code",
      "source": [
        "#Peça a idade de três pessoas e diga quem é a mais velha e quem é a mais nova.\n",
        "\n",
        "\n",
        "#Primeiro coletar dados\n",
        "idade_1 = int(input('Digite sua idade:'))\n",
        "idade_2 = int(input('Digite a idade do seu irmão:'))\n",
        "idade_3 = int(input('Digite a idade da sua irmã:'))\n",
        "\n",
        "#Determinar quem é o mais velho\n",
        "maior_idade = idade_1\n",
        "if idade_2 > maior_idade:\n",
        "  maior_idade = idade_2\n",
        "if idade_3 > maior_idade:\n",
        "  maior_idade = idade_3\n",
        "\n",
        "#Determinar o mais novo\n",
        "menor_idade = idade_1\n",
        "if idade_2 < menor_idade:\n",
        "  menor_idade = idade_2\n",
        "if idade_3 < menor_idade:\n",
        "  menor_idade = idade_3\n",
        "\n",
        "#Resultado\n",
        "print(f'O mais velho(a) tem {maior_idade} anos!')\n",
        "print(f'O mais novo(a) tem {menor_idade} anos!')\n"
      ],
      "metadata": {
        "colab": {
          "base_uri": "https://localhost:8080/"
        },
        "id": "LtRdqLwwH1HE",
        "outputId": "44c93586-5a04-420d-e6e2-ff54babcefa8"
      },
      "execution_count": 39,
      "outputs": [
        {
          "output_type": "stream",
          "name": "stdout",
          "text": [
            "Digite sua idade:33\n",
            "Digite a idade do seu irmão:39\n",
            "Digite a idade da sua irmã:88\n",
            "O mais velho(a) tem 88 anos!\n",
            "O mais novo(a) tem 33 anos!\n"
          ]
        }
      ]
    },
    {
      "cell_type": "code",
      "source": [
        "#Você pesquisou o preço de um mesmo produto em três lojas. Qual o mais barato e o mais caro?\n",
        "\n",
        "#Primeiro coletar os dados\n",
        "primeira_loja = float(input('Digite aqui o preço da primeira loja:'))\n",
        "segunda_loja = float(input('Digite aqui o preço da segunda loja:'))\n",
        "terceira_loja =float(input('Digite aqui o preço da terceira loja:'))\n",
        "\n",
        "#Depois verificar o maior preço\n",
        "maior_preco = primeira_loja\n",
        "if segunda_loja > maior_preco:\n",
        "  maior_preco = segunda_loja\n",
        "if terceira_loja > maior_preco:\n",
        "  maior_preco = terceira_loja\n",
        "\n",
        "#Depois verificar o menor preço\n",
        "\n",
        "menor_preco = primeira_loja\n",
        "if segunda_loja < menor_preco:\n",
        "  menor_preco = segunda_loja\n",
        "if terceira_loja < menor_preco:\n",
        "  menor_preco = terceira_loja\n",
        "\n",
        "#Resultado\n",
        "print(f'A loja mais cara custa R${maior_preco}.')\n",
        "print(f'A loja mais barata custa R${menor_preco}.')"
      ],
      "metadata": {
        "colab": {
          "base_uri": "https://localhost:8080/"
        },
        "id": "rEMdEP4GLiio",
        "outputId": "fedfa703-6bf9-4286-a1c1-9c4be25d1c20"
      },
      "execution_count": 42,
      "outputs": [
        {
          "output_type": "stream",
          "name": "stdout",
          "text": [
            "Digite aqui o preço da primeira loja:300\n",
            "Digite aqui o preço da segunda loja:256\n",
            "Digite aqui o preço da terceira loja:976\n",
            "A loja mais cara custa R$976.0.\n",
            "A loja mais barata custa R$256.0.\n"
          ]
        }
      ]
    },
    {
      "cell_type": "code",
      "source": [
        "#Exercício com Média: Preços de Carro em 3 Anos\n",
        "\n",
        "#Primeiro coletar dados\n",
        "carro_1 = float(input('Digite aqui o valor do carro em 2023:'))\n",
        "carro_2 = float(input('Digite aqui o valor do carro em 2024:'))\n",
        "carro_3 = float(input('Digite aqui o valor do carro em 2025:'))\n",
        "\n",
        "#Caclular o maior preço\n",
        "maior_preco_carro = carro_1\n",
        "if carro_2 > maior_preco_carro:\n",
        "  maior_preco_carro = carro_2\n",
        "if carro_3 > maior_preco_carro:\n",
        "  maior_preco_carro = carro_3\n",
        "\n",
        "#Cacular o menor preço\n",
        "menor_preco_carro = carro_1\n",
        "if carro_2 < menor_preco_carro:\n",
        "  menor_preco_carro = carro_2\n",
        "if carro_3 < menor_preco_carro:\n",
        "  menor_preco_carro = carro_3\n",
        "\n",
        "# Calcular a média\n",
        "media_preco = (carro_1 + carro_2 + carro_3) / 3\n",
        "\n",
        "#Resultado\n",
        "print(f'O carro mais caro é R${maior_preco_carro}')\n",
        "print(f'O carro mais barato é R$ {menor_preco_carro}')\n",
        "print(f'A média do valor do carro nos últinos 3 anos foi R${media_preco}')"
      ],
      "metadata": {
        "colab": {
          "base_uri": "https://localhost:8080/"
        },
        "id": "YmMENKrZPLtd",
        "outputId": "f56029f0-43fb-451b-c06e-f7027611635c"
      },
      "execution_count": 48,
      "outputs": [
        {
          "output_type": "stream",
          "name": "stdout",
          "text": [
            "Digite aqui o valor do carro em 2023:65.00\n",
            "Digite aqui o valor do carro em 2024:78.000\n",
            "Digite aqui o valor do carro em 2025:99.000\n",
            "O carro mais caro é R$99.0\n",
            "O carro mais barato é R$ 65.0\n",
            "A média do valor do carro nos últinos 3 anos foi R$80.66666666666667\n"
          ]
        }
      ]
    },
    {
      "cell_type": "code",
      "source": [
        "#Preço do Carro em Três Anos (elif):\n",
        "\n",
        "#Coletar informaçãos\n",
        "carro_2021 = float(input('Digite o preço do carro em 2021:'))\n",
        "carro_2022 = float(input('Digite o preço do carro em 2022:'))\n",
        "carro_2023 = float(input('Digite o preço do carro em 2023:'))\n",
        "\n",
        "#Verificar o maior valor\n",
        "if carro_2021 > carro_2022 and carro_2021 > carro_2023:\n",
        "  maior_preco = carro_2021\n",
        "elif carro_2022 > carro_2021 and carro_2022 > carro_2023:\n",
        "  maior_preco = carro_2022\n",
        "else:\n",
        "  maior_preco = carro_2023\n",
        "\n",
        "#Verificando o menor valor\n",
        "if carro_2021 < carro_2022 and carro_2021 < carro_2023:\n",
        "  menor_preco = carro_2021\n",
        "elif carro_2022 < carro_2021 and carro_2022 < carro_2023:\n",
        "  menor_preco = carro_2022\n",
        "else:\n",
        "  menor_preco = carro_2023\n",
        "\n",
        "#Calcular a média\n",
        "\n",
        "media_carro = ( carro_2021 + carro_2022 + carro_2023) / 3\n",
        "\n",
        "#Resultado\n",
        "print(f'O preço do carro mais caro é de R${maior_preco}:')\n",
        "print(f'O preço do carro mais barato é de R${menor_preco}:')\n",
        "print(f'A média do preço do carro é R$ {media_carro}')"
      ],
      "metadata": {
        "colab": {
          "base_uri": "https://localhost:8080/"
        },
        "id": "0kSrbOZQb1ks",
        "outputId": "19129002-a6af-4b2a-fc5b-a0ff312fb047"
      },
      "execution_count": 49,
      "outputs": [
        {
          "output_type": "stream",
          "name": "stdout",
          "text": [
            "Digite o preço do carro em 2021:40.000\n",
            "Digite o preço do carro em 2022:15.000\n",
            "Digite o preço do carro em 2023:88.000\n",
            "O preço do carro mais caro é de R$88.0:\n",
            "O preço do carro mais barato é de R$15.0:\n",
            "A média do preço do carro é R$ 47.666666666666664\n"
          ]
        }
      ]
    },
    {
      "cell_type": "code",
      "source": [
        "#Peça a velocidade média de um carro em três dias e informe:\n",
        "\n",
        "#Coletar dados\n",
        "velocidade_1 = float(input('Digite a velocidade do carro no primeiro dia:'))\n",
        "velocidade_2 = float(input('Digite a velocidade do carro no segundo dia:'))\n",
        "velocidade_3 = float(input('Digite a velocidade do carro no terceiro dia:'))\n",
        "\n",
        "#A maior e a menor velocidade.\n",
        "\n",
        "#Primeiro calcular a maior\n",
        "\n",
        "if velocidade_1 >= velocidade_2 and velocidade_1 >= velocidade_3:\n",
        "  maior_velocidade = velocidade_1\n",
        "elif velocidade_2 >= velocidade_1 and velocidade_2>= velocidade_3:\n",
        "  maior_velocidade = velocidade_2\n",
        "else:\n",
        "  maior_velocidade = velocidade_3\n",
        "\n",
        "# segundo calcular a menor\n",
        "\n",
        "if velocidade_1 <= velocidade_2 and velocidade_1 < velocidade_3:\n",
        "  menor_velocidade = velocidade_1\n",
        "elif velocidade_2 <= velocidade_1 and velocidade_2 <= velocidade_3:\n",
        "  menor_velocidade = velocidade_2\n",
        "else:\n",
        "  menor_velocidade = velocidade_3\n",
        "\n",
        "\n",
        "#A média\n",
        "\n",
        "media_velocidade = (velocidade_1 + velocidade_2 + velocidade_3) / 3\n",
        "\n",
        "\n",
        "#Resultados\n",
        "print(f'A maior velocidade foi do carro foi de {maior_velocidade}Km/h.')\n",
        "print(f'A menor velocidade foi do carro foi de {menor_velocidade}Km/h.')\n",
        "print(f'A média da velocidade do carro foi de {media_velocidade}Km/h.')\n",
        "\n",
        "#E se a média for maior que 100 km/h, exiba: \"Velocidade acima do permitido!\"\n",
        "if media_velocidade > 100:\n",
        "   print('Velocidade acima do permitido!')\n",
        "\n",
        "\n",
        "\n"
      ],
      "metadata": {
        "colab": {
          "base_uri": "https://localhost:8080/"
        },
        "id": "2yJwBdxGfT9u",
        "outputId": "ad7b12fd-799e-4510-bc15-eb5c276a6b29"
      },
      "execution_count": 3,
      "outputs": [
        {
          "output_type": "stream",
          "name": "stdout",
          "text": [
            "Digite a velocidade do carro no primeiro dia:90\n",
            "Digite a velocidade do carro no segundo dia:100\n",
            "Digite a velocidade do carro no terceiro dia:120\n",
            "A maior velocidade foi do carro foi de 120.0Km/h.\n",
            "A menor velocidade foi do carro foi de 90.0Km/h.\n",
            "A média da velocidade do carro foi de 103.33333333333333Km/h.\n",
            "Velocidade acima do permitido!\n"
          ]
        }
      ]
    },
    {
      "cell_type": "code",
      "source": [
        "#Leia 3 notas, calcule a média e:\n",
        "\n",
        "nota_1 = float(input('Digite uma nota:'))\n",
        "nota_2 = float(input('Digite outra nota:'))\n",
        "nota_3 = float(input('Digite mais uma nota:'))\n",
        "\n",
        "#Mostre a maior e a menor nota.\n",
        "\n",
        "#Maior nota\n",
        "maior_nota = nota_1\n",
        "if nota_2 > maior_nota:\n",
        "  maior_nota = nota_2\n",
        "if nota_3 > maior_nota:\n",
        "  maior_nota = nota_3\n",
        "\n",
        "#Menor nota\n",
        "menor_nota = nota_1\n",
        "if nota_2 < menor_nota:\n",
        "  menor_nota = nota_2\n",
        "if nota_3 < menor_nota:\n",
        "  menor_nota = nota_3\n",
        "\n",
        "media_nota = (nota_1 + nota_2 + nota_3) / 3\n",
        "\n",
        "#Se a média ≥ 7: \"Aprovado\"\n",
        "if media_nota >= 7:\n",
        "  print('Parabéns, você foi aprovado!')\n",
        "\n",
        "\n",
        "#Se a média entre 5 e 7: \"Recuperação\"\n",
        "if media_nota >=5 and media_nota <7:\n",
        "  print('Calma, você esta de recuperação e ainda tem chances!')\n",
        "\n",
        "#Se a média for menor que 5:\n",
        "if media_nota < 5:\n",
        "  print('Infelizmente não foi dessa vez, você esta reprovado!')\n",
        "\n"
      ],
      "metadata": {
        "colab": {
          "base_uri": "https://localhost:8080/"
        },
        "id": "lHrLlIOBu_gP",
        "outputId": "c3a2bb20-fa41-458e-9e54-ce55a8f04cd5"
      },
      "execution_count": 6,
      "outputs": [
        {
          "output_type": "stream",
          "name": "stdout",
          "text": [
            "Digite uma nota:8\n",
            "Digite outra nota:3\n",
            "Digite mais uma nota:4\n",
            "Calma, você esta de recuperação e ainda tem chances!\n"
          ]
        }
      ]
    }
  ]
}